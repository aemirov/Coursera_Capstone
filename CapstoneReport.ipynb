{
 "cells": [
  {
   "cell_type": "markdown",
   "metadata": {},
   "source": [
    "# Explaining the COVID-19 cases in Montreal"
   ]
  },
  {
   "cell_type": "markdown",
   "metadata": {},
   "source": [
    "## Table Of Contents\n",
    "\n",
    "1. <a href=\"#item1\">Introduction</a>\n",
    "<br/>\n",
    "2. <a href=\"#item2\">Data Acquisition</a>\n",
    "<br/>\n",
    "    2.1. <a href=\"#item2_1\">Data Sources</a>\n",
    "    <br/>\n",
    "    2.2. <a href=\"#item2_2\">Data Cleaning</a>\n",
    "    <br/>\n",
    "3. <a href=\"#item3\">Exploratory Analysis</a>\n",
    "<br/>\n",
    "4. <a href=\"#item4\">Clustering</a>\n",
    "<br/>\n",
    "5. <a href=\"#item5\">Conclusion</a>    "
   ]
  },
  {
   "cell_type": "markdown",
   "metadata": {},
   "source": [
    "<a id='item1'></a>\n",
    "## 1. Introduction"
   ]
  },
  {
   "cell_type": "markdown",
   "metadata": {},
   "source": [
    "The coronavirus or, otherwise known as COVID-19, has disrupted societies worldwide and brought entire industries to a halt. \n",
    "\n",
    "In Canada, however, not all provinces have been affected equally, with Quebec being at the top of the list with the highest number of cases. Since the beginning of the pandemic, it was obvious that Montreal would probably be the hottest spot of the province but, as weeks went by, it also became apparent that some areas of the island were more affected than others.\n",
    "\n",
    "In this project, we will analyze and, based on this historic data, cluster the boroughs of the Montreal island with the goal of identifying the areas that are more at risk of having a spike in the near future. Furthermore, we will leverage the Foursquare API to determine the availability of healthcare locations on the island and, hopefully, explain the high number of confirmed cases in the most affected boroughs."
   ]
  },
  {
   "cell_type": "markdown",
   "metadata": {},
   "source": [
    "<a id='item2'></a>\n",
    "## 2. Data Acquisition"
   ]
  },
  {
   "cell_type": "markdown",
   "metadata": {},
   "source": [
    "<a id='item2_1'></a>\n",
    "### 2.1. Data Sources"
   ]
  },
  {
   "cell_type": "markdown",
   "metadata": {},
   "source": [
    "Most of the data is available at the Santé Montréal website (https://santemontreal.qc.ca/en/public/coronavirus-covid-19/situation-of-the-coronavirus-covid-19-in-montreal). There are multiple data sets available on their website but, for this report, we are mainly interested in the table titled **\"Numbers of confirmed cases and deaths by borough or linked city\"**, which can also be downloaded in CSV format.\n",
    "\n",
    "However, location information had to be sourced from the Ville de Montréal's website (http://donnees.ville.montreal.qc.ca/dataset/polygones-arrondissements), and can be found by querying **\"Limite administrative de l'agglomération de Montréal\"**. For our report, we picked the GEOJSON format which, apart from the usual polygon coordinates, contains data properties about area, perimeter and borough type."
   ]
  },
  {
   "cell_type": "markdown",
   "metadata": {},
   "source": [
    "<a id='item2_2'></a>\n",
    "### 2.2. Data Cleaning"
   ]
  },
  {
   "cell_type": "markdown",
   "metadata": {},
   "source": [
    "TBD"
   ]
  },
  {
   "cell_type": "markdown",
   "metadata": {},
   "source": [
    "<a id='item3'></a>\n",
    "## 3. Exploratory Analysis"
   ]
  },
  {
   "cell_type": "markdown",
   "metadata": {},
   "source": [
    "TBD"
   ]
  },
  {
   "cell_type": "markdown",
   "metadata": {},
   "source": [
    "<a id='item4'></a>\n",
    "## 4. Clustering"
   ]
  },
  {
   "cell_type": "markdown",
   "metadata": {},
   "source": [
    "TBD"
   ]
  },
  {
   "cell_type": "markdown",
   "metadata": {},
   "source": [
    "<a id='item5'></a>\n",
    "## 5. Conclusion"
   ]
  },
  {
   "cell_type": "markdown",
   "metadata": {},
   "source": [
    "TBD"
   ]
  }
 ],
 "metadata": {
  "kernelspec": {
   "display_name": "Python 3",
   "language": "python",
   "name": "python3"
  },
  "language_info": {
   "codemirror_mode": {
    "name": "ipython",
    "version": 3
   },
   "file_extension": ".py",
   "mimetype": "text/x-python",
   "name": "python",
   "nbconvert_exporter": "python",
   "pygments_lexer": "ipython3",
   "version": "3.6.9"
  }
 },
 "nbformat": 4,
 "nbformat_minor": 2
}
